{
 "cells": [
  {
   "cell_type": "code",
   "execution_count": 1,
   "metadata": {},
   "outputs": [],
   "source": [
    "import xarray\n",
    "import pandas as pd\n",
    "import geopandas as gpd"
   ]
  },
  {
   "cell_type": "code",
   "execution_count": 2,
   "metadata": {},
   "outputs": [],
   "source": [
    "hydrosos_dir = \"../../workspaces/app_workspace/hydrosos/streamflow/\"\n",
    "all_data_fname = \"vpu_122/combined_all_data_122.nc\"\n",
    "monthly_data_fname = \"vpu_122/combined_monthly_data_122.nc\"\n",
    "geometry_data_fname = 'global_streams_simplified.gpkg'\n",
    "stream_order_data_fname = 'v2-master-table.parquet'"
   ]
  },
  {
   "cell_type": "markdown",
   "metadata": {},
   "source": [
    "## River Geometry + StreamOrder"
   ]
  },
  {
   "cell_type": "code",
   "execution_count": 3,
   "metadata": {},
   "outputs": [],
   "source": [
    "# geometry data for all rivers\n",
    "gdf_geo = gpd.read_file(hydrosos_dir + geometry_data_fname, engine='pyogrio')\n",
    "# stream order for all rivers\n",
    "df_stream_order = pd.read_parquet(hydrosos_dir + stream_order_data_fname)\n",
    "# filter vpu 122 and fields\n",
    "df_stream_order = df_stream_order[df_stream_order['VPUCode'] == 122][['LINKNO', 'strmOrder']].reset_index(drop=True)\n",
    "# merge 2 dfs\n",
    "df_river = pd.merge(gdf_geo, df_stream_order, on=['LINKNO']).rename(columns={'LINKNO': 'rivid'})\n",
    "df_river"
   ]
  },
  {
   "cell_type": "code",
   "execution_count": 4,
   "metadata": {},
   "outputs": [],
   "source": [
    "# write out the file\n",
    "gdf_river = gpd.GeoDataFrame(df_river, geometry='geometry')\n",
    "gdf_river.to_file(hydrosos_dir + 'vpu_122/river_features_122.geojson', driver='GeoJSON')"
   ]
  },
  {
   "cell_type": "markdown",
   "metadata": {},
   "source": [
    "## River data"
   ]
  },
  {
   "cell_type": "code",
   "execution_count": 55,
   "metadata": {},
   "outputs": [],
   "source": [
    "all_data = xarray.open_dataset(hydrosos_dir + all_data_fname)\n",
    "monthly_data = xarray.open_dataset(hydrosos_dir + monthly_data_fname)"
   ]
  }
 ],
 "metadata": {
  "kernelspec": {
   "display_name": "tethys",
   "language": "python",
   "name": "python3"
  },
  "language_info": {
   "codemirror_mode": {
    "name": "ipython",
    "version": 3
   },
   "file_extension": ".py",
   "mimetype": "text/x-python",
   "name": "python",
   "nbconvert_exporter": "python",
   "pygments_lexer": "ipython3",
   "version": "3.11.5"
  }
 },
 "nbformat": 4,
 "nbformat_minor": 2
}
